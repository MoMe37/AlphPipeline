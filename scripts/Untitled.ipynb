{
 "cells": [
  {
   "cell_type": "code",
   "execution_count": 15,
   "id": "02748c4b-461a-41f9-a40d-6b5cadfe00ed",
   "metadata": {},
   "outputs": [],
   "source": [
    "import os\n",
    "import numpy as np\n",
    "import matplotlib.pyplot as plt\n",
    "import seaborn as sns\n",
    "sns.set()"
   ]
  },
  {
   "cell_type": "code",
   "execution_count": 10,
   "id": "249ddde6-b7c3-4c0b-b741-e8cc4b63a4e3",
   "metadata": {},
   "outputs": [],
   "source": [
    "data = []\n",
    "record_list = ['sa1', 'sa2', 'si649', 'si1279', 'si1909', 'sx19', 'sx109', 'sx199', 'sx289', 'sx379']\n",
    "for record in record_list:\n",
    "    folder = \"../../AlphData/fadg0/spectrogram/\" + record\n",
    "    for path in os.listdir(folder):\n",
    "        if os.path.isfile(os.path.join(folder, path)):\n",
    "            X = np.loadtxt(folder + \"/\" + path, dtype=float)\n",
    "            for i in range(len(X)):\n",
    "                for j in range(len(X[i])):\n",
    "                    data.append(X[i][j])"
   ]
  },
  {
   "cell_type": "code",
   "execution_count": 11,
   "id": "f863a776-bb03-42cb-beca-e0c488ffb647",
   "metadata": {},
   "outputs": [
    {
     "data": {
      "text/plain": [
       "5070848"
      ]
     },
     "execution_count": 11,
     "metadata": {},
     "output_type": "execute_result"
    }
   ],
   "source": [
    "len(data)"
   ]
  },
  {
   "cell_type": "code",
   "execution_count": 18,
   "id": "b817411b-4b65-44a6-8c71-c3f0d1900abe",
   "metadata": {},
   "outputs": [
    {
     "data": {
      "text/plain": [
       "Text(0.5, 1.0, 'Répartition des valeurs des spectrogrammes')"
      ]
     },
     "execution_count": 18,
     "metadata": {},
     "output_type": "execute_result"
    },
    {
     "data": {
      "image/png": "[encoded data removed]",
      "text/plain": [
       "<Figure size 432x288 with 1 Axes>"
      ]
     },
     "metadata": {},
     "output_type": "display_data"
    }
   ],
   "source": [
    "plt.hist(data, bins = 100)\n",
    "plt.xlabel('valeurs')\n",
    "plt.ylabel('Nbr')\n",
    "plt.title('Répartition des valeurs des spectrogrammes')"
   ]
  },
  {
   "cell_type": "code",
   "execution_count": null,
   "id": "0ce1c2f4-b9e6-439b-a468-be8deba0a648",
   "metadata": {},
   "outputs": [],
   "source": []
  }
 ],
 "metadata": {
  "kernelspec": {
   "display_name": "Python 3 (ipykernel)",
   "language": "python",
   "name": "python3"
  },
  "language_info": {
   "codemirror_mode": {
    "name": "ipython",
    "version": 3
   },
   "file_extension": ".py",
   "mimetype": "text/x-python",
   "name": "python",
   "nbconvert_exporter": "python",
   "pygments_lexer": "ipython3",
   "version": "3.9.7"
  }
 },
 "nbformat": 4,
 "nbformat_minor": 5
}
