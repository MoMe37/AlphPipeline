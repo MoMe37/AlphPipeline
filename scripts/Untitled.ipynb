{
 "cells": [
  {
   "cell_type": "code",
   "execution_count": 1,
   "id": "723d3ace-9c0c-4def-86b1-d5a73f35c7da",
   "metadata": {},
   "outputs": [],
   "source": [
    "import os\n",
    "import librosa\n",
    "import librosa.display\n",
    "import matplotlib.pyplot as plt"
   ]
  },
  {
   "cell_type": "code",
   "execution_count": 2,
   "id": "56c06a6e-f681-427c-9dae-7c901ef26dcf",
   "metadata": {},
   "outputs": [],
   "source": [
    "samples, sample_rate = librosa.load(\"../../fadg0/audio/sa1.wav\", sr=None)"
   ]
  },
  {
   "cell_type": "code",
   "execution_count": 3,
   "id": "5d95fc3c-6b35-46a2-bc9a-7b4b07c194a7",
   "metadata": {},
   "outputs": [
    {
     "name": "stdout",
     "output_type": "stream",
     "text": [
      "sample :  [ 0.003479    0.00061035 -0.00064087 ... -0.02127075 -0.01885986\n",
      " -0.02020264]\n",
      "len :  152320\n"
     ]
    }
   ],
   "source": [
    "print(\"sample : \", samples)\n",
    "print(\"len : \", len(samples))"
   ]
  },
  {
   "cell_type": "code",
   "execution_count": 19,
   "id": "8712b8f9-459b-4c09-a4f7-4f4cf82952f1",
   "metadata": {},
   "outputs": [
    {
     "data": {
      "text/plain": [
       "100"
      ]
     },
     "execution_count": 19,
     "metadata": {},
     "output_type": "execute_result"
    }
   ],
   "source": [
    "sample = []\n",
    "for i in range(119):\n",
    "    sample.append(samples[int(i*(len(samples)/119)):100+int(i*(len(samples)/119))])\n",
    "len(sample[0])"
   ]
  },
  {
   "cell_type": "code",
   "execution_count": 22,
   "id": "e9a2e4dc-0d1e-4901-bcc5-bb03ceb96bbb",
   "metadata": {},
   "outputs": [
    {
     "data": {
      "text/plain": [
       "<matplotlib.colorbar.Colorbar at 0x163d3a2fd60>"
      ]
     },
     "execution_count": 22,
     "metadata": {},
     "output_type": "execute_result"
    },
    {
     "data": {
      "image/png": "[encoded data removed]",
      "text/plain": [
       "<Figure size 432x288 with 2 Axes>"
      ]
     },
     "metadata": {
      "needs_background": "light"
     },
     "output_type": "display_data"
    }
   ],
   "source": [
    "mel_spec = []\n",
    "for i in range(119):\n",
    "    mel_spec.append(librosa.feature.melspectrogram(y=sample[i], sr=sample_rate, n_fft = 2048, hope_length =  , win_length=1))\n",
    "librosa.display.specshow(mel_spec[69], sr=sample_rate, x_axis='time', y_axis='mel')\n",
    "plt.colorbar(format='%+2.0f dB')"
   ]
  },
  {
   "cell_type": "code",
   "execution_count": 23,
   "id": "dfaeeef0-8775-4b08-b6ee-af4eff41c3ff",
   "metadata": {},
   "outputs": [
    {
     "data": {
      "text/plain": [
       "1"
      ]
     },
     "execution_count": 23,
     "metadata": {},
     "output_type": "execute_result"
    }
   ],
   "source": [
    "len(mel_spec[0][0])"
   ]
  },
  {
   "cell_type": "code",
   "execution_count": null,
   "id": "f68c8ec4-050f-436f-92b5-56528f36d44a",
   "metadata": {},
   "outputs": [],
   "source": []
  }
 ],
 "metadata": {
  "kernelspec": {
   "display_name": "Python 3 (ipykernel)",
   "language": "python",
   "name": "python3"
  },
  "language_info": {
   "codemirror_mode": {
    "name": "ipython",
    "version": 3
   },
   "file_extension": ".py",
   "mimetype": "text/x-python",
   "name": "python",
   "nbconvert_exporter": "python",
   "pygments_lexer": "ipython3",
   "version": "3.9.7"
  }
 },
 "nbformat": 4,
 "nbformat_minor": 5
}
