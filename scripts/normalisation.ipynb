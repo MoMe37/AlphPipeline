{
 "cells": [
  {
   "cell_type": "code",
   "execution_count": 1,
   "id": "02748c4b-461a-41f9-a40d-6b5cadfe00ed",
   "metadata": {},
   "outputs": [],
   "source": [
    "import os\n",
    "import numpy as np\n",
    "import matplotlib.pyplot as plt\n",
    "import seaborn as sns\n",
    "sns.set()"
   ]
  },
  {
   "cell_type": "code",
   "execution_count": 2,
   "id": "249ddde6-b7c3-4c0b-b741-e8cc4b63a4e3",
   "metadata": {},
   "outputs": [],
   "source": [
    "data = []\n",
    "record_list = ['sa1', 'sa2', 'si649', 'si1279', 'si1909', 'sx19', 'sx109', 'sx199', 'sx289', 'sx379']\n",
    "for record in record_list:\n",
    "    folder = \"../../AlphData/fadg0/spectrogram/\" + record\n",
    "    for path in os.listdir(folder):\n",
    "        if os.path.isfile(os.path.join(folder, path)):\n",
    "            X = np.loadtxt(folder + \"/\" + path, dtype=float)\n",
    "            for i in range(len(X)):\n",
    "                for j in range(len(X[i])):\n",
    "                    data.append(X[i][j])"
   ]
  },
  {
   "cell_type": "code",
   "execution_count": 3,
   "id": "f863a776-bb03-42cb-beca-e0c488ffb647",
   "metadata": {},
   "outputs": [
    {
     "data": {
      "text/plain": [
       "5070848"
      ]
     },
     "execution_count": 3,
     "metadata": {},
     "output_type": "execute_result"
    }
   ],
   "source": [
    "len(data)"
   ]
  },
  {
   "cell_type": "code",
   "execution_count": 4,
   "id": "b817411b-4b65-44a6-8c71-c3f0d1900abe",
   "metadata": {},
   "outputs": [
    {
     "data": {
      "text/plain": [
       "Text(0.5, 1.0, 'Répartition des valeurs des spectrogrammes')"
      ]
     },
     "execution_count": 4,
     "metadata": {},
     "output_type": "execute_result"
    },
    {
     "data": {
      "image/png": "[encoded data removed]",
      "text/plain": [
       "<Figure size 432x288 with 1 Axes>"
      ]
     },
     "metadata": {},
     "output_type": "display_data"
    }
   ],
   "source": [
    "plt.hist(data, bins = 100)\n",
    "plt.xlabel('valeurs')\n",
    "plt.ylabel('Nbr')\n",
    "plt.title('Répartition des valeurs des spectrogrammes')"
   ]
  },
  {
   "cell_type": "code",
   "execution_count": 5,
   "id": "0ce1c2f4-b9e6-439b-a468-be8deba0a648",
   "metadata": {},
   "outputs": [
    {
     "name": "stdout",
     "output_type": "stream",
     "text": [
      "La moyenne est :  40.40376965202818\n",
      "L'écart-type :  15.310182028700291\n"
     ]
    }
   ],
   "source": [
    "mean = np.mean(data)\n",
    "std = np.std(data)\n",
    "print(\"La moyenne est : \", mean)\n",
    "print(\"L'écart-type : \", std)"
   ]
  },
  {
   "cell_type": "code",
   "execution_count": 8,
   "id": "5a759565-65b4-4887-9aae-9ea136137973",
   "metadata": {},
   "outputs": [],
   "source": [
    "for record in record_list:\n",
    "    folder = \"../../AlphData/fadg0/spectrogram/\" + record\n",
    "    folder2 = \"../../AlphData/fadg0/spectrogram_norm/\" + record\n",
    "    for path in os.listdir(folder):\n",
    "        if os.path.isfile(os.path.join(folder, path)):\n",
    "            X = np.loadtxt(folder + \"/\" + path, dtype=float)\n",
    "            for i in range(len(X)):\n",
    "                for j in range(len(X[i])):\n",
    "                    X[i][j] = (X[i][j]-mean)/std\n",
    "            np.savetxt(folder2 + \"/\" + path, X)"
   ]
  },
  {
   "cell_type": "code",
   "execution_count": 9,
   "id": "8297f89d-b962-4ec4-b580-fce5ea436baa",
   "metadata": {},
   "outputs": [],
   "source": [
    "data = []\n",
    "for record in record_list:\n",
    "    folder = \"../../AlphData/fadg0/spectrogram_norm/\" + record\n",
    "    for path in os.listdir(folder):\n",
    "        if os.path.isfile(os.path.join(folder, path)):\n",
    "            X = np.loadtxt(folder + \"/\" + path, dtype=float)\n",
    "            for i in range(len(X)):\n",
    "                for j in range(len(X[i])):\n",
    "                    data.append(X[i][j])"
   ]
  },
  {
   "cell_type": "code",
   "execution_count": 10,
   "id": "002fa022-0e85-4586-8d79-234bee1ace62",
   "metadata": {},
   "outputs": [
    {
     "data": {
      "text/plain": [
       "Text(0.5, 1.0, 'Répartition des valeurs des spectrogrammes')"
      ]
     },
     "execution_count": 10,
     "metadata": {},
     "output_type": "execute_result"
    },
    {
     "data": {
      "image/png": "[encoded data removed]",
      "text/plain": [
       "<Figure size 432x288 with 1 Axes>"
      ]
     },
     "metadata": {},
     "output_type": "display_data"
    }
   ],
   "source": [
    "plt.hist(data, bins = 100)\n",
    "plt.xlabel('valeurs')\n",
    "plt.ylabel('Nbr')\n",
    "plt.title('Répartition des valeurs des spectrogrammes')"
   ]
  },
  {
   "cell_type": "code",
   "execution_count": null,
   "id": "2286c184-63c3-4d16-ae6b-262c89b128ff",
   "metadata": {},
   "outputs": [],
   "source": []
  }
 ],
 "metadata": {
  "kernelspec": {
   "display_name": "Python 3 (ipykernel)",
   "language": "python",
   "name": "python3"
  },
  "language_info": {
   "codemirror_mode": {
    "name": "ipython",
    "version": 3
   },
   "file_extension": ".py",
   "mimetype": "text/x-python",
   "name": "python",
   "nbconvert_exporter": "python",
   "pygments_lexer": "ipython3",
   "version": "3.9.7"
  }
 },
 "nbformat": 4,
 "nbformat_minor": 5
}
