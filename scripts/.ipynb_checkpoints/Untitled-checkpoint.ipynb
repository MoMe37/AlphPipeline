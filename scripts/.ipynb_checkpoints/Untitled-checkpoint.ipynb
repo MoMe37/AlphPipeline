{
 "cells": [
  {
   "cell_type": "code",
   "execution_count": 2,
   "id": "723d3ace-9c0c-4def-86b1-d5a73f35c7da",
   "metadata": {},
   "outputs": [],
   "source": [
    "import os\n",
    "import librosa\n",
    "import librosa.display"
   ]
  },
  {
   "cell_type": "code",
   "execution_count": 5,
   "id": "56c06a6e-f681-427c-9dae-7c901ef26dcf",
   "metadata": {},
   "outputs": [],
   "source": [
    "samples, sample_rate = librosa.load(\"../../fadg0/audio/sa1.wav\", sr=None)"
   ]
  },
  {
   "cell_type": "code",
   "execution_count": 7,
   "id": "5d95fc3c-6b35-46a2-bc9a-7b4b07c194a7",
   "metadata": {},
   "outputs": [
    {
     "name": "stdout",
     "output_type": "stream",
     "text": [
      "sample :  [ 0.003479    0.00061035 -0.00064087 ... -0.02127075 -0.01885986\n",
      " -0.02020264]\n",
      "len :  152320\n"
     ]
    }
   ],
   "source": [
    "print(\"sample : \", samples)\n",
    "print(\"len : \", len(samples))"
   ]
  },
  {
   "cell_type": "code",
   "execution_count": 8,
   "id": "e9a2e4dc-0d1e-4901-bcc5-bb03ceb96bbb",
   "metadata": {},
   "outputs": [
    {
     "data": {
      "text/plain": [
       "array([[8.6311729e-07, 5.8798236e-05, 8.5588232e-05, ..., 3.8669285e-05,\n",
       "        4.9596847e-06, 1.5356066e-04],\n",
       "       [8.6312014e-07, 5.8793921e-05, 8.5581923e-05, ..., 3.8666316e-05,\n",
       "        4.9592445e-06, 1.5354872e-04],\n",
       "       [8.6312463e-07, 5.8786914e-05, 8.5571650e-05, ..., 3.8661485e-05,\n",
       "        4.9585278e-06, 1.5352928e-04],\n",
       "       ...,\n",
       "       [3.1814298e-07, 1.5744641e-08, 1.8892916e-08, ..., 2.3778536e-08,\n",
       "        2.0770040e-07, 2.7948866e-07],\n",
       "       [3.0812436e-07, 1.8484858e-08, 2.0205393e-08, ..., 1.1928186e-08,\n",
       "        1.8075534e-07, 2.7642673e-07],\n",
       "       [3.0178927e-07, 2.0066265e-08, 2.0600229e-08, ..., 3.6030050e-09,\n",
       "        1.6294383e-07, 2.7117488e-07]], dtype=float32)"
      ]
     },
     "execution_count": 8,
     "metadata": {},
     "output_type": "execute_result"
    }
   ],
   "source": [
    "mel_spec = librosa.feature.melspectrogram(y=samples, sr=sample_rate, hop_length=int(len(samples)/119), win_length=5)"
   ]
  },
  {
   "cell_type": "code",
   "execution_count": null,
   "id": "dfaeeef0-8775-4b08-b6ee-af4eff41c3ff",
   "metadata": {},
   "outputs": [],
   "source": []
  }
 ],
 "metadata": {
  "kernelspec": {
   "display_name": "Python 3 (ipykernel)",
   "language": "python",
   "name": "python3"
  },
  "language_info": {
   "codemirror_mode": {
    "name": "ipython",
    "version": 3
   },
   "file_extension": ".py",
   "mimetype": "text/x-python",
   "name": "python",
   "nbconvert_exporter": "python",
   "pygments_lexer": "ipython3",
   "version": "3.9.7"
  }
 },
 "nbformat": 4,
 "nbformat_minor": 5
}
